{
 "cells": [
  {
   "cell_type": "code",
   "execution_count": 19,
   "metadata": {
    "collapsed": true
   },
   "outputs": [],
   "source": [
    "#Import dependencies\n",
    "import csv\n",
    "from collections import OrderedDict\n",
    "from operator import itemgetter"
   ]
  },
  {
   "cell_type": "code",
   "execution_count": 34,
   "metadata": {
    "collapsed": true
   },
   "outputs": [],
   "source": [
    "#Define Input and Outputfile paths\n",
    "electionin='C:/Users/EAikins/Downloads/election_data.csv'\n",
    "electionsout='C:/Users/EAikins/Downloads/out_Elections.txt'"
   ]
  },
  {
   "cell_type": "code",
   "execution_count": 35,
   "metadata": {
    "collapsed": true
   },
   "outputs": [],
   "source": [
    "#Defined Variables to track\n",
    "votes = 0\n",
    "winner_votes = 0\n",
    "No_of_candidates = 0\n",
    "candidate_options = []\n",
    "candidate_votes = {}"
   ]
  },
  {
   "cell_type": "code",
   "execution_count": 36,
   "metadata": {
    "collapsed": false
   },
   "outputs": [
    {
     "name": "stdout",
     "output_type": "stream",
     "text": [
      "\n",
      "\n",
      "Election Results\n",
      "--------------------------\n",
      "Total Votes 3521001\n",
      "--------------------------\n",
      "candidate 63.0% (2218231)\n",
      "candidate 20.0% (704200)\n",
      "candidate 14.0% (492940)\n",
      "candidate 3.0% (105630)\n",
      "--------------------------\n",
      "Winner:  ('Khan', 2218231)\n",
      "--------------------------\n"
     ]
    }
   ],
   "source": [
    "#Open And Analyze Election Results\n",
    "with open(electionin) as poll_data:\n",
    "    csvreader = csv.DictReader(poll_data)\n",
    "\n",
    "    for row in csvreader:\n",
    "        votes += 1\n",
    "        No_of_candidates = row[\"Candidate\"]\n",
    "\n",
    "        if row[\"Candidate\"] not in candidate_options:\n",
    "            candidate_options.append(row[\"Candidate\"])\n",
    "            candidate_votes[row[\"Candidate\"]] = 1\n",
    "\n",
    "        else:\n",
    "            candidate_votes[row[\"Candidate\"]] = candidate_votes[row[\"Candidate\"]] + 1\n",
    "\n",
    "# Print the answer\n",
    "print()\n",
    "print()\n",
    "print(f\"Election Results\")\n",
    "print(f\"--------------------------\")\n",
    "print(f\"Total Votes {str(votes)}\")\n",
    "print(f\"--------------------------\")\n",
    "\n",
    "for candidate in candidate_votes:\n",
    "    print(f'candidate {str(round(((candidate_votes[candidate] / votes) * 100),3))}% ({str(candidate_votes[candidate])})')\n",
    "\n",
    "    Election_Results = (candidate + \" \" + str(round(((candidate_votes[candidate] / votes) * 100),3)) + \" % \" + \" (\" + str(candidate_votes[candidate]) + \")\")\n",
    "\n",
    "   \n",
    "    candidate_votes\n",
    "    winner = sorted(candidate_votes.items(), key=itemgetter(1), reverse=True)\n",
    "\n",
    "print(f\"--------------------------\")\n",
    "print(f\"Winner:  {str(winner[0])}\")\n",
    "print(f\"--------------------------\")\n"
   ]
  },
  {
   "cell_type": "code",
   "execution_count": 39,
   "metadata": {
    "collapsed": false
   },
   "outputs": [],
   "source": [
    "#Write to txt file\n",
    "with open(\"out_Elections\", \"w\")as txt_file:\n",
    "    txt_file.write(\"Election Results\")\n",
    "    txt_file.write(\"\\n\")\n",
    "    txt_file.write(\"--------------------------\")\n",
    "    txt_file.write(\"\\n\")\n",
    "    txt_file.write(str(winner))\n",
    "    txt_file.write(\"\\n\")\n",
    "    txt_file.write(\"--------------------------\")\n",
    "    txt_file.write(\"\\n\")\n",
    "    txt_file.write(\"Winner: \" + str(winner[0]))\n",
    "    txt_file.write(\"\\n\")\n",
    "    txt_file.write(\"Total Votes cast \" + str(votes))"
   ]
  },
  {
   "cell_type": "code",
   "execution_count": null,
   "metadata": {
    "collapsed": true
   },
   "outputs": [],
   "source": []
  }
 ],
 "metadata": {
  "kernelspec": {
   "display_name": "Python [conda env:PythonData]",
   "language": "python",
   "name": "conda-env-PythonData-py"
  },
  "language_info": {
   "codemirror_mode": {
    "name": "ipython",
    "version": 3
   },
   "file_extension": ".py",
   "mimetype": "text/x-python",
   "name": "python",
   "nbconvert_exporter": "python",
   "pygments_lexer": "ipython3",
   "version": "3.6.1"
  }
 },
 "nbformat": 4,
 "nbformat_minor": 2
}
