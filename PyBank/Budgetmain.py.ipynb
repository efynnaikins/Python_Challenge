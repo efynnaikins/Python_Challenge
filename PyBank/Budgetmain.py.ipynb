{
 "cells": [
  {
   "cell_type": "code",
   "execution_count": 15,
   "metadata": {
    "collapsed": false
   },
   "outputs": [
    {
     "name": "stdout",
     "output_type": "stream",
     "text": [
      "\n",
      "Financial Analysis\n",
      "-------------------------\n",
      "Total Months: 86\n",
      "Total : $ 38382578\n",
      "Average Change: $ -84518.62\n",
      "Greatest Increase in Revenue:  Feb-2012 ( $ 1926159)\n",
      "Greatest Decrease in Revenue: Sep-2013 ($ -2196167)\n"
     ]
    }
   ],
   "source": [
    "import csv\n",
    "infname='C:/Users/EAikins/Downloads/budget_data.csv'\n",
    "outfname='C:/Users/EAikins/Downloads/out_Budget.txt'\n",
    "total_months=0\n",
    "profit_loss=0\n",
    "previous_profit_loss = 0\n",
    "greatest_increase = [\"\", 0]\n",
    "greatest_decrease = [\"\", 10000000000000]\n",
    "changes = []\n",
    "with open(infname,encoding='utf-8') as csvfile:\n",
    "        reader = csv.reader(csvfile,delimiter=\",\")\n",
    "        header = next(reader)\n",
    "        \n",
    "        for row in reader:\n",
    "            total_months += 1\n",
    "            profit_loss += int(row[1])\n",
    "            change = int(row[1]) - previous_profit_loss\n",
    "            previous_profit_loss=int(row[1])\n",
    "             # greatest increase\n",
    "            if (change > greatest_increase[1]):\n",
    "                greatest_increase[1] = change\n",
    "                greatest_increase[0] = row[0]\n",
    "                #Greares Decrease\n",
    "            if (change < greatest_decrease[1]):\n",
    "                greatest_decrease[1] = change\n",
    "                greatest_decrease[0] = row[0]\n",
    "            # changes List\n",
    "                changes.append(int(row[1]))\n",
    "           \n",
    "        #  Average\n",
    "        avg = sum(changes) / len(changes)\n",
    "        print()\n",
    "          \n",
    "        print(f\"Financial Analysis\")\n",
    "        print(f\"-------------------------\")\n",
    "        print(f\"Total Months: {str(total_months)}\")\n",
    "        print(f\"Total : $ {str(profit_loss)}\")\n",
    "        print(f\"Average Change: $ {str(round(sum(changes) / len(changes), 2))}\")\n",
    "        print(f\"Greatest Increase in Revenue:  {str(greatest_increase[0])} ( $ {str(greatest_increase[1])})\")\n",
    "        print(f\"Greatest Decrease in Revenue: {str(greatest_decrease[0])} ($ {str(greatest_decrease[1])})\")\n",
    "\n",
    "            \n"
   ]
  },
  {
   "cell_type": "code",
   "execution_count": 16,
   "metadata": {
    "collapsed": false
   },
   "outputs": [],
   "source": [
    "# Output Files\n",
    "with open(\"out_Budget\", \"w\") as txt_file:\n",
    "    txt_file.write(\"\\n\")\n",
    "    txt_file.write(\"Financial Analysis\")\n",
    "    txt_file.write(\"\\n\")\n",
    "    txt_file.write(\"----------------------\")\n",
    "    txt_file.write(\"\\n\")\n",
    "    txt_file.write(f\"Total Months: {str(total_months)}\")\n",
    "    txt_file.write(\"\\n\")\n",
    "    txt_file.write(f\"Total : $ {str(profit_loss)}\")\n",
    "    txt_file.write(\"\\n\")\n",
    "    txt_file.write(f\"Average Change: $ {str(round(sum(changes) / len(changes), 2))}\")\n",
    "    txt_file.write(\"\\n\")\n",
    "    txt_file.write(f\"Greatest Increase in Revenue:  {str(greatest_increase[0])} ( $ {str(greatest_increase[1])})\")\n",
    "    txt_file.write(\"\\n\")\n",
    "    txt_file.write(f\"Greatest Decrease in Revenue: {str(greatest_decrease[0])} ($ {str(greatest_decrease[1])})\")"
   ]
  },
  {
   "cell_type": "code",
   "execution_count": null,
   "metadata": {
    "collapsed": true
   },
   "outputs": [],
   "source": []
  }
 ],
 "metadata": {
  "kernelspec": {
   "display_name": "Python [conda env:PythonData]",
   "language": "python",
   "name": "conda-env-PythonData-py"
  },
  "language_info": {
   "codemirror_mode": {
    "name": "ipython",
    "version": 3
   },
   "file_extension": ".py",
   "mimetype": "text/x-python",
   "name": "python",
   "nbconvert_exporter": "python",
   "pygments_lexer": "ipython3",
   "version": "3.6.1"
  }
 },
 "nbformat": 4,
 "nbformat_minor": 2
}
